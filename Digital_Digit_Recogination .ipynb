{
 "cells": [
  {
   "cell_type": "code",
   "execution_count": 1,
   "metadata": {
    "collapsed": true
   },
   "outputs": [],
   "source": [
    "from sklearn import datasets\n",
    "from sklearn.svm import SVC\n",
    "from scipy import misc\n",
    "import matplotlib.pyplot as pt \n",
    "import numpy as np"
   ]
  },
  {
   "cell_type": "code",
   "execution_count": 2,
   "metadata": {
    "collapsed": true
   },
   "outputs": [],
   "source": [
    "dig = datasets.load_digits()\n",
    "features = dig.data\n",
    "labels = dig.target"
   ]
  },
  {
   "cell_type": "code",
   "execution_count": 3,
   "metadata": {},
   "outputs": [
    {
     "data": {
      "text/plain": [
       "SVC(C=100, cache_size=200, class_weight=None, coef0=0.0,\n",
       "  decision_function_shape='ovr', degree=3, gamma=0.001, kernel='rbf',\n",
       "  max_iter=-1, probability=False, random_state=None, shrinking=True,\n",
       "  tol=0.001, verbose=False)"
      ]
     },
     "execution_count": 3,
     "metadata": {},
     "output_type": "execute_result"
    }
   ],
   "source": [
    "clf2 = SVC(gamma = 0.001, C=100)\n",
    "clf2.fit(features,labels)"
   ]
  },
  {
   "cell_type": "code",
   "execution_count": 10,
   "metadata": {},
   "outputs": [
    {
     "name": "stdout",
     "output_type": "stream",
     "text": [
      "[0.0, 4.0, 13.0, 10.0, 0.0, 0.0, 0.0, 0.0, 2.0, 10.0, 9.0, 8.0, 0.0, 0.0, 0.0, 0.0, 0.0, 2.0, 4.0, 8.0, 0.0, 0.0, 0.0, 0.0, 0.0, 0.0, 4.0, 8.0, 0.0, 0.0, 0.0, 0.0, 0.0, 0.0, 5.0, 7.0, 0.0, 0.0, 0.0, 0.0, 1.0, 1.0, 6.0, 7.0, 1.0, 1.0, 1.0, 1.0, 11.0, 11.0, 12.0, 11.0, 9.0, 9.0, 9.0, 9.0, 2.0, 3.0, 4.0, 2.3333333333333335, 2.0, 2.0, 2.3333333333333335, 1.6666666666666667]\n"
     ]
    }
   ],
   "source": [
    "img = misc.imread(\"/Users/virajdattkohir/Downloads/exm.png\")\n",
    "#print(img)\n",
    "img = misc.imresize(img, (8,8))\n",
    "img = img.astype(float)\n",
    "#print(img.dtype)\n",
    "img = misc.bytescale(img, high = 16, low =0)\n",
    "img = img[:,:,:-1]\n",
    "#print(img)\n",
    "#print(img.shape)\n",
    "\n",
    "x_test = []\n",
    "for eachrow in img:\n",
    "    for eachpixel in eachrow:\n",
    "        x_test.append(sum(eachpixel)/3.0)\n",
    "print(x_test)"
   ]
  },
  {
   "cell_type": "code",
   "execution_count": 11,
   "metadata": {},
   "outputs": [
    {
     "name": "stdout",
     "output_type": "stream",
     "text": [
      "[2]\n"
     ]
    }
   ],
   "source": [
    "\n",
    "print(clf2.predict([x_test]))"
   ]
  },
  {
   "cell_type": "code",
   "execution_count": 6,
   "metadata": {},
   "outputs": [
    {
     "data": {
      "text/plain": [
       "<matplotlib.figure.Figure at 0x1a0a0b4320>"
      ]
     },
     "metadata": {},
     "output_type": "display_data"
    },
    {
     "data": {
      "image/png": "[encoded data removed]",
      "text/plain": [
       "<matplotlib.figure.Figure at 0x1a0a0b4438>"
      ]
     },
     "metadata": {},
     "output_type": "display_data"
    }
   ],
   "source": [
    "pt.gray()\n",
    "pt.matshow(dig.images[3])\n",
    "pt.show()"
   ]
  },
  {
   "cell_type": "code",
   "execution_count": 7,
   "metadata": {},
   "outputs": [
    {
     "data": {
      "text/plain": [
       "array([[  0.,   0.,   0.,   0.,  14.,  13.,   1.,   0.],\n",
       "       [  0.,   0.,   0.,   5.,  16.,  16.,   2.,   0.],\n",
       "       [  0.,   0.,   0.,  14.,  16.,  12.,   0.,   0.],\n",
       "       [  0.,   1.,  10.,  16.,  16.,  12.,   0.,   0.],\n",
       "       [  0.,   3.,  12.,  14.,  16.,   9.,   0.,   0.],\n",
       "       [  0.,   0.,   0.,   5.,  16.,  15.,   0.,   0.],\n",
       "       [  0.,   0.,   0.,   4.,  16.,  14.,   0.,   0.],\n",
       "       [  0.,   0.,   0.,   1.,  13.,  16.,   1.,   0.]])"
      ]
     },
     "execution_count": 7,
     "metadata": {},
     "output_type": "execute_result"
    }
   ],
   "source": [
    "dig.images[11]"
   ]
  },
  {
   "cell_type": "code",
   "execution_count": 8,
   "metadata": {},
   "outputs": [
    {
     "name": "stdout",
     "output_type": "stream",
     "text": [
      "(64,)\n"
     ]
    }
   ],
   "source": [
    "arr = np.array(x_test)\n",
    "print(arr.shape)\n",
    "arr = np.reshape(arr, (8,8))"
   ]
  },
  {
   "cell_type": "code",
   "execution_count": 9,
   "metadata": {},
   "outputs": [
    {
     "data": {
      "text/plain": [
       "<matplotlib.figure.Figure at 0x1a09e41a58>"
      ]
     },
     "metadata": {},
     "output_type": "display_data"
    },
    {
     "data": {
      "image/png": "[encoded data removed]",
      "text/plain": [
       "<matplotlib.figure.Figure at 0x1a09e41f60>"
      ]
     },
     "metadata": {},
     "output_type": "display_data"
    }
   ],
   "source": [
    "pt.gray()\n",
    "pt.matshow(arr)\n",
    "pt.show()"
   ]
  }
 ],
 "metadata": {
  "kernelspec": {
   "display_name": "Python 3",
   "language": "python",
   "name": "python3"
  },
  "language_info": {
   "codemirror_mode": {
    "name": "ipython",
    "version": 3
   },
   "file_extension": ".py",
   "mimetype": "text/x-python",
   "name": "python",
   "nbconvert_exporter": "python",
   "pygments_lexer": "ipython3",
   "version": "3.6.3"
  }
 },
 "nbformat": 4,
 "nbformat_minor": 2
}
